{
  "cells": [
    {
      "cell_type": "markdown",
      "metadata": {
        "id": "5Xbhy8GePeQj"
      },
      "source": [
        "# Data Processing using Pyspark"
      ]
    },
    {
      "cell_type": "code",
      "execution_count": null,
      "metadata": {
        "colab": {
          "base_uri": "https://localhost:8080/"
        },
        "id": "e2sVW1yEPeQn",
        "outputId": "7b6e16a6-d3fd-4ee2-ff1a-8a2a6bacae5a"
      },
      "outputs": [],
      "source": [
        "#configuración en google colab de spark y pyspark\n",
        "from google.colab import drive\n",
        "drive.mount('/content/gdrive')"
      ]
    },
    {
      "cell_type": "code",
      "execution_count": null,
      "metadata": {
        "id": "CFBDdSIIPeQ9"
      },
      "outputs": [],
      "source": [
        "#instalar java y spark\n",
        "!apt-get install openjdk-11-jdk-headless -qq > /dev/null\n",
        "!wget -q https://downloads.apache.org/spark/spark-3.3.1/spark-3.3.1-bin-hadoop3.tgz\n",
        "!tar xf spark-3.3.1-bin-hadoop3.tgz\n",
        "!pip install -q findspark"
      ]
    },
    {
      "cell_type": "code",
      "execution_count": null,
      "metadata": {
        "id": "_FufFZ4-PeQ-"
      },
      "outputs": [],
      "source": [
        "import os\n",
        "os.environ[\"JAVA_HOME\"] = \"/usr/lib/jvm/java-11-openjdk-amd64\"\n",
        "os.environ[\"SPARK_HOME\"] = \"/content/spark-3.3.1-bin-hadoop3\""
      ]
    },
    {
      "cell_type": "code",
      "execution_count": null,
      "metadata": {
        "id": "mr-_E1CWPeRA"
      },
      "outputs": [],
      "source": [
        "import findspark\n",
        "findspark.init()\n",
        "from pyspark.sql import SparkSession\n",
        "spark = SparkSession.builder.master(\"local[*]\").getOrCreate()\n",
        "sc = spark.sparkContext"
      ]
    },
    {
      "cell_type": "code",
      "execution_count": null,
      "metadata": {
        "colab": {
          "base_uri": "https://localhost:8080/",
          "height": 219
        },
        "id": "nrv-TzvaPeRB",
        "outputId": "e68cb67a-5865-4990-da9f-acfaf3499667"
      },
      "outputs": [],
      "source": [
        "spark"
      ]
    },
    {
      "cell_type": "code",
      "execution_count": null,
      "metadata": {
        "colab": {
          "base_uri": "https://localhost:8080/",
          "height": 196
        },
        "id": "CHrN5x06PeRD",
        "outputId": "ebb646c0-d626-4922-934d-9297e2d4252b"
      },
      "outputs": [],
      "source": [
        "sc"
      ]
    },
    {
      "cell_type": "code",
      "execution_count": null,
      "metadata": {
        "id": "PbzJhE0GPeRE"
      },
      "outputs": [],
      "source": [
        "# Load csv Dataset \n",
        "#df=spark.read.csv('s3://<bucket/dir>/sample_data.csv',inferSchema=True,header=True)\n",
        "df=spark.read.csv('/content/gdrive/MyDrive/st0263-2266/bigdata/datasets/covid19/Casos_positivos_de_COVID-19_en_Colombia-100K.csv',inferSchema=True,header=True)"
      ]
    },
    {
      "cell_type": "code",
      "execution_count": null,
      "metadata": {
        "colab": {
          "base_uri": "https://localhost:8080/"
        },
        "id": "L_oO9XMVPeRF",
        "outputId": "79199e41-9421-4176-c1b4-b634868dd1c3"
      },
      "outputs": [],
      "source": [
        "#columns of dataframe\n",
        "df.columns"
      ]
    },
    {
      "cell_type": "code",
      "execution_count": null,
      "metadata": {
        "colab": {
          "base_uri": "https://localhost:8080/"
        },
        "id": "rmlmMdlXPeRI",
        "outputId": "55b22742-1efa-4194-ea71-7e81fd2458d9"
      },
      "outputs": [],
      "source": [
        "#printSchema\n",
        "df.printSchema()"
      ]
    },
    {
      "cell_type": "code",
      "execution_count": null,
      "metadata": {
        "colab": {
          "base_uri": "https://localhost:8080/"
        },
        "id": "vHb3kK_sTuTB",
        "outputId": "74a8cc20-6e8d-4fde-c8ec-21f65a23e879"
      },
      "outputs": [],
      "source": [
        "df.select('fecha reporte web','Fecha de notificación','Ubicación del caso','Fecha de muerte').show(5)"
      ]
    },
    {
      "cell_type": "code",
      "execution_count": null,
      "metadata": {
        "colab": {
          "base_uri": "https://localhost:8080/"
        },
        "id": "tDfkTRPcVCo-",
        "outputId": "07ca9c8a-4fe1-4410-c00b-9804f8e6c3d0"
      },
      "outputs": [],
      "source": [
        "df.select('Fecha de notificación','Recuperado','Edad').withColumn(\"Edad despues de 10 años\",(df[\"Edad\"]+10)).show(10,False)"
      ]
    },
    {
      "cell_type": "code",
      "execution_count": null,
      "metadata": {
        "colab": {
          "base_uri": "https://localhost:8080/"
        },
        "id": "GyP9lALBWAm_",
        "outputId": "2cddc128-de0f-4b87-9eaf-4ecabebb4399"
      },
      "outputs": [],
      "source": [
        "df.select('ID de caso','Fecha de notificación','Recuperado','Edad').drop('Fecha de notificación').show(5)"
      ]
    },
    {
      "cell_type": "code",
      "execution_count": null,
      "metadata": {
        "colab": {
          "base_uri": "https://localhost:8080/"
        },
        "id": "1m41jjpdWUHw",
        "outputId": "0e451691-7f34-4a06-dd1b-62cf3a8eb455"
      },
      "outputs": [],
      "source": [
        "df.filter(df['Edad']>30).show(5)"
      ]
    },
    {
      "cell_type": "code",
      "execution_count": null,
      "metadata": {
        "colab": {
          "base_uri": "https://localhost:8080/"
        },
        "id": "Sd2_JZFzUQP-",
        "outputId": "8183e044-7ad4-4337-81ec-c05e82b0e6a0"
      },
      "outputs": [],
      "source": [
        "df.select('Nombre departamento','Recuperado').withColumnRenamed('Recuperado','sano').show(5)"
      ]
    },
    {
      "cell_type": "code",
      "execution_count": null,
      "metadata": {
        "id": "ZR2_-aKJXDrG"
      },
      "outputs": [],
      "source": [
        "from pyspark.sql.functions import udf"
      ]
    },
    {
      "cell_type": "code",
      "execution_count": null,
      "metadata": {
        "id": "tuNBX866XOlW"
      },
      "outputs": [],
      "source": [
        "from pyspark.sql.types import StringType,DoubleType,IntegerType"
      ]
    },
    {
      "cell_type": "code",
      "execution_count": null,
      "metadata": {
        "id": "XpIJZ3_fXRhn"
      },
      "outputs": [],
      "source": [
        "def realizar_cuarentena(dep):\n",
        "  if dep == \"Recuperado\":\n",
        "    return \"No cuarentena\"\n",
        "  else:\n",
        "    return \"Realizar cuarentena\""
      ]
    },
    {
      "cell_type": "code",
      "execution_count": null,
      "metadata": {
        "colab": {
          "base_uri": "https://localhost:8080/"
        },
        "id": "5rphaDliXnvD",
        "outputId": "cb60a5d7-0e70-48b4-c8af-f62944c795bd"
      },
      "outputs": [],
      "source": [
        "obj_udf=udf(realizar_cuarentena,StringType())\n",
        "df.select('ID de caso','Edad','Recuperado').withColumn('Realizar cuarentena',obj_udf(df['Recuperado'])).show(10)"
      ]
    },
    {
      "cell_type": "code",
      "execution_count": null,
      "metadata": {
        "id": "xsgflQhwepGf"
      },
      "outputs": [],
      "source": [
        "#Respuestas a las preguntas de la sección 3"
      ]
    },
    {
      "cell_type": "code",
      "execution_count": 75,
      "metadata": {
        "id": "yWZTHCVXm0tq"
      },
      "outputs": [],
      "source": [
        "#Dirección \n",
        "write_uri1='s3a://datamazapataj/Preguntas3/3_1'"
      ]
    },
    {
      "cell_type": "code",
      "execution_count": null,
      "metadata": {
        "colab": {
          "base_uri": "https://localhost:8080/"
        },
        "id": "_TZIMpsidV_M",
        "outputId": "2126dc71-4300-43a1-bbeb-c9d223978990"
      },
      "outputs": [],
      "source": [
        "#Departamentos con mayor casos de covid (dataframe)\n",
        "\n",
        "df.groupBy('Nombre departamento').count().orderBy('count',ascending=False).show(10,False)"
      ]
    },
    {
      "cell_type": "code",
      "execution_count": null,
      "metadata": {
        "colab": {
          "base_uri": "https://localhost:8080/"
        },
        "id": "IJbPl0H8eXfg",
        "outputId": "498e8fc3-53a4-4fc8-a3b0-c521188c1747"
      },
      "outputs": [],
      "source": [
        "#Municipio con mayor casos de covid (dataframe)\n",
        "\n",
        "df.groupBy('Nombre municipio').count().orderBy('count',ascending=False).show(10,False)"
      ]
    },
    {
      "cell_type": "code",
      "execution_count": null,
      "metadata": {
        "colab": {
          "base_uri": "https://localhost:8080/"
        },
        "id": "99sUiqQden6H",
        "outputId": "0baacfd4-8634-4403-9140-46cd184b76fd"
      },
      "outputs": [],
      "source": [
        "#Fechas en las que hay mayor casos de covid (dataframe)\n",
        "\n",
        "df.groupBy('Fecha de notificación').count().orderBy('count',ascending=False).show(10,False)"
      ]
    },
    {
      "cell_type": "code",
      "execution_count": null,
      "metadata": {
        "colab": {
          "base_uri": "https://localhost:8080/"
        },
        "id": "etrFrqYffKKm",
        "outputId": "08a22c4f-5157-4047-8253-162cf7c19c97"
      },
      "outputs": [],
      "source": [
        "#Distribución de casos por edades (dataframe)\n",
        "\n",
        "df.groupBy('Edad').count().orderBy('Edad',ascending=True).show()"
      ]
    },
    {
      "cell_type": "code",
      "execution_count": null,
      "metadata": {
        "colab": {
          "base_uri": "https://localhost:8080/"
        },
        "id": "l412X0etfgUj",
        "outputId": "aa805685-56da-47d4-a4d5-c662b37f0341"
      },
      "outputs": [],
      "source": [
        "#Cuanta gente se ha recuperado, cuanta ha fallecido (dataframe)\n",
        "\n",
        "df.groupBy('Recuperado').count().orderBy('count').show()"
      ]
    },
    {
      "cell_type": "code",
      "execution_count": null,
      "metadata": {
        "id": "mthH_jRGgbFA"
      },
      "outputs": [],
      "source": [
        "#SparkSQL para las preguntas 3"
      ]
    },
    {
      "cell_type": "code",
      "execution_count": null,
      "metadata": {
        "id": "tc5UANXJjD94"
      },
      "outputs": [],
      "source": [
        "# In Python\n",
        "from pyspark.sql import SparkSession\n",
        "# Create a SparkSession\n",
        "spark = (SparkSession\n",
        "  .builder\n",
        "  .appName(\"SparkSQLExampleApp\")\n",
        "  .getOrCreate())\n",
        "# Path to data set\n",
        "csv_file = \"/content/gdrive/MyDrive/st0263-2266/bigdata/datasets/covid19/Casos_positivos_de_COVID-19_en_Colombia-100K.csv\"\n",
        "# Read and create a temporary view\n",
        "# Infer schema (note that for larger files you \n",
        "# may want to specify the schema)\n",
        "df = (spark.read.format(\"csv\")\n",
        "  .option(\"inferSchema\", \"true\")\n",
        "  .option(\"header\", \"true\")\n",
        "  .load(csv_file))\n",
        "df.createOrReplaceTempView(\"DbCovid\")"
      ]
    },
    {
      "cell_type": "code",
      "execution_count": null,
      "metadata": {
        "colab": {
          "base_uri": "https://localhost:8080/"
        },
        "id": "X8QDKQRqjIPz",
        "outputId": "5e28a158-d763-4f74-a93f-89ce9fae0882"
      },
      "outputs": [],
      "source": [
        "#Distribución de casos por edades (SparkSQL)\n",
        "spark.sql(\"\"\"SELECT Edad, COUNT(*) FROM DbCovid GROUP BY Edad\"\"\").show(10)"
      ]
    },
    {
      "cell_type": "code",
      "execution_count": null,
      "metadata": {
        "colab": {
          "base_uri": "https://localhost:8080/"
        },
        "id": "h9MnJ8_HjgYf",
        "outputId": "5d63ad2b-1073-461d-8f2f-0652b4709438"
      },
      "outputs": [],
      "source": [
        "#Municipio con mayores casos de covid (SparkSQL)\n",
        "spark.sql(\"\"\"SELECT `Nombre municipio`, COUNT(*) FROM DbCovid GROUP BY `Nombre municipio` ORDER BY 2  DESC\"\"\").show(10)"
      ]
    },
    {
      "cell_type": "code",
      "execution_count": null,
      "metadata": {
        "colab": {
          "base_uri": "https://localhost:8080/"
        },
        "id": "0oQWbeuklEyx",
        "outputId": "0ef25ea8-3e06-4e89-8847-136dc516870e"
      },
      "outputs": [],
      "source": [
        "#Departamentos con mayores casos de covid (SparkSQL)\n",
        "spark.sql(\"\"\"SELECT `Nombre departamento`, COUNT(*) FROM covid GROUP BY `Nombre departamento` ORDER BY 2  DESC\"\"\").show(10)"
      ]
    },
    {
      "cell_type": "code",
      "execution_count": null,
      "metadata": {
        "colab": {
          "base_uri": "https://localhost:8080/"
        },
        "id": "ApSTFmH-la0-",
        "outputId": "ab4c4db6-9671-4793-a46c-ec2fb9e49b7c"
      },
      "outputs": [],
      "source": [
        "#Fechas con mayores casos de covid (SparkSQL)\n",
        "spark.sql(\"\"\"SELECT `Fecha de notificación`, COUNT(*) FROM covid GROUP BY `Fecha de notificación` ORDER BY 2  DESC\"\"\").show(10)"
      ]
    },
    {
      "cell_type": "code",
      "execution_count": null,
      "metadata": {
        "colab": {
          "base_uri": "https://localhost:8080/"
        },
        "id": "uT3EUrpQl7lN",
        "outputId": "fcc9554a-7a09-4b95-b3e3-59d06b12c42e"
      },
      "outputs": [],
      "source": [
        "#Cuanta gente se ha recuperado, cuanta ha fallecido (SparkSQL)\n",
        "spark.sql(\"\"\"SELECT Recuperado, COUNT(*) FROM covid GROUP BY Recuperado ORDER BY 2  DESC\"\"\").show(10)"
      ]
    }
  ],
  "metadata": {
    "colab": {
      "provenance": []
    },
    "kernelspec": {
      "display_name": "Python 3.10.2 64-bit",
      "language": "python",
      "name": "python3"
    },
    "language_info": {
      "codemirror_mode": {
        "name": "ipython",
        "version": 3
      },
      "file_extension": ".py",
      "mimetype": "text/x-python",
      "name": "python",
      "nbconvert_exporter": "python",
      "pygments_lexer": "ipython3",
      "version": "3.10.2"
    },
    "vscode": {
      "interpreter": {
        "hash": "c63d8c7d738c2960218a10995aedf0a7f67a49a231e71037adf0440953cdb45b"
      }
    }
  },
  "nbformat": 4,
  "nbformat_minor": 0
}
