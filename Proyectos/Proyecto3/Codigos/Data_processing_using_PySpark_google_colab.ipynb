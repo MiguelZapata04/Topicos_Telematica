{
  "cells": [
    {
      "cell_type": "markdown",
      "metadata": {
        "id": "5Xbhy8GePeQj"
      },
      "source": [
        "# Data Processing using Pyspark"
      ]
    },
    {
      "cell_type": "code",
      "execution_count": null,
      "metadata": {
        "colab": {
          "base_uri": "https://localhost:8080/"
        },
        "id": "e2sVW1yEPeQn",
        "outputId": "7b6e16a6-d3fd-4ee2-ff1a-8a2a6bacae5a"
      },
      "outputs": [
        {
          "output_type": "stream",
          "name": "stdout",
          "text": [
            "Mounted at /content/gdrive\n"
          ]
        }
      ],
      "source": [
        "#configuración en google colab de spark y pyspark\n",
        "from google.colab import drive\n",
        "drive.mount('/content/gdrive')"
      ]
    },
    {
      "cell_type": "code",
      "execution_count": null,
      "metadata": {
        "id": "CFBDdSIIPeQ9"
      },
      "outputs": [],
      "source": [
        "#instalar java y spark\n",
        "!apt-get install openjdk-11-jdk-headless -qq > /dev/null\n",
        "!wget -q https://downloads.apache.org/spark/spark-3.3.1/spark-3.3.1-bin-hadoop3.tgz\n",
        "!tar xf spark-3.3.1-bin-hadoop3.tgz\n",
        "!pip install -q findspark"
      ]
    },
    {
      "cell_type": "code",
      "execution_count": null,
      "metadata": {
        "id": "_FufFZ4-PeQ-"
      },
      "outputs": [],
      "source": [
        "import os\n",
        "os.environ[\"JAVA_HOME\"] = \"/usr/lib/jvm/java-11-openjdk-amd64\"\n",
        "os.environ[\"SPARK_HOME\"] = \"/content/spark-3.3.1-bin-hadoop3\""
      ]
    },
    {
      "cell_type": "code",
      "execution_count": null,
      "metadata": {
        "id": "mr-_E1CWPeRA"
      },
      "outputs": [],
      "source": [
        "import findspark\n",
        "findspark.init()\n",
        "from pyspark.sql import SparkSession\n",
        "spark = SparkSession.builder.master(\"local[*]\").getOrCreate()\n",
        "sc = spark.sparkContext"
      ]
    },
    {
      "cell_type": "code",
      "execution_count": null,
      "metadata": {
        "colab": {
          "base_uri": "https://localhost:8080/",
          "height": 219
        },
        "id": "nrv-TzvaPeRB",
        "outputId": "e68cb67a-5865-4990-da9f-acfaf3499667"
      },
      "outputs": [
        {
          "output_type": "execute_result",
          "data": {
            "text/plain": [
              "<pyspark.sql.session.SparkSession at 0x7f89d34ad0d0>"
            ],
            "text/html": [
              "\n",
              "            <div>\n",
              "                <p><b>SparkSession - in-memory</b></p>\n",
              "                \n",
              "        <div>\n",
              "            <p><b>SparkContext</b></p>\n",
              "\n",
              "            <p><a href=\"http://2c4c2aafb1a5:4040\">Spark UI</a></p>\n",
              "\n",
              "            <dl>\n",
              "              <dt>Version</dt>\n",
              "                <dd><code>v3.3.1</code></dd>\n",
              "              <dt>Master</dt>\n",
              "                <dd><code>local[*]</code></dd>\n",
              "              <dt>AppName</dt>\n",
              "                <dd><code>pyspark-shell</code></dd>\n",
              "            </dl>\n",
              "        </div>\n",
              "        \n",
              "            </div>\n",
              "        "
            ]
          },
          "metadata": {},
          "execution_count": 5
        }
      ],
      "source": [
        "spark"
      ]
    },
    {
      "cell_type": "code",
      "execution_count": null,
      "metadata": {
        "colab": {
          "base_uri": "https://localhost:8080/",
          "height": 196
        },
        "id": "CHrN5x06PeRD",
        "outputId": "ebb646c0-d626-4922-934d-9297e2d4252b"
      },
      "outputs": [
        {
          "output_type": "execute_result",
          "data": {
            "text/plain": [
              "<SparkContext master=local[*] appName=pyspark-shell>"
            ],
            "text/html": [
              "\n",
              "        <div>\n",
              "            <p><b>SparkContext</b></p>\n",
              "\n",
              "            <p><a href=\"http://2c4c2aafb1a5:4040\">Spark UI</a></p>\n",
              "\n",
              "            <dl>\n",
              "              <dt>Version</dt>\n",
              "                <dd><code>v3.3.1</code></dd>\n",
              "              <dt>Master</dt>\n",
              "                <dd><code>local[*]</code></dd>\n",
              "              <dt>AppName</dt>\n",
              "                <dd><code>pyspark-shell</code></dd>\n",
              "            </dl>\n",
              "        </div>\n",
              "        "
            ]
          },
          "metadata": {},
          "execution_count": 6
        }
      ],
      "source": [
        "sc"
      ]
    },
    {
      "cell_type": "code",
      "execution_count": null,
      "metadata": {
        "id": "PbzJhE0GPeRE"
      },
      "outputs": [],
      "source": [
        "# Load csv Dataset \n",
        "#df=spark.read.csv('s3://<bucket/dir>/sample_data.csv',inferSchema=True,header=True)\n",
        "df=spark.read.csv('/content/gdrive/MyDrive/st0263-2266/bigdata/datasets/covid19/Casos_positivos_de_COVID-19_en_Colombia-100K.csv',inferSchema=True,header=True)"
      ]
    },
    {
      "cell_type": "code",
      "execution_count": null,
      "metadata": {
        "colab": {
          "base_uri": "https://localhost:8080/"
        },
        "id": "L_oO9XMVPeRF",
        "outputId": "79199e41-9421-4176-c1b4-b634868dd1c3"
      },
      "outputs": [
        {
          "output_type": "execute_result",
          "data": {
            "text/plain": [
              "['fecha reporte web',\n",
              " 'ID de caso',\n",
              " 'Fecha de notificación',\n",
              " 'Código DIVIPOLA departamento',\n",
              " 'Nombre departamento',\n",
              " 'Código DIVIPOLA municipio',\n",
              " 'Nombre municipio',\n",
              " 'Edad',\n",
              " 'Unidad de medida de edad',\n",
              " 'Sexo',\n",
              " 'Tipo de contagio',\n",
              " 'Ubicación del caso',\n",
              " 'Estado',\n",
              " 'Código ISO del país',\n",
              " 'Nombre del país',\n",
              " 'Recuperado',\n",
              " 'Fecha de inicio de síntomas',\n",
              " 'Fecha de muerte',\n",
              " 'Fecha de diagnóstico',\n",
              " 'Fecha de recuperación',\n",
              " 'Tipo de recuperación',\n",
              " 'Pertenencia étnica',\n",
              " 'Nombre del grupo étnico']"
            ]
          },
          "metadata": {},
          "execution_count": 8
        }
      ],
      "source": [
        "#columns of dataframe\n",
        "df.columns"
      ]
    },
    {
      "cell_type": "code",
      "execution_count": null,
      "metadata": {
        "colab": {
          "base_uri": "https://localhost:8080/"
        },
        "id": "rmlmMdlXPeRI",
        "outputId": "55b22742-1efa-4194-ea71-7e81fd2458d9"
      },
      "outputs": [
        {
          "output_type": "stream",
          "name": "stdout",
          "text": [
            "root\n",
            " |-- fecha reporte web: string (nullable = true)\n",
            " |-- ID de caso: integer (nullable = true)\n",
            " |-- Fecha de notificación: string (nullable = true)\n",
            " |-- Código DIVIPOLA departamento: integer (nullable = true)\n",
            " |-- Nombre departamento: string (nullable = true)\n",
            " |-- Código DIVIPOLA municipio: integer (nullable = true)\n",
            " |-- Nombre municipio: string (nullable = true)\n",
            " |-- Edad: integer (nullable = true)\n",
            " |-- Unidad de medida de edad: integer (nullable = true)\n",
            " |-- Sexo: string (nullable = true)\n",
            " |-- Tipo de contagio: string (nullable = true)\n",
            " |-- Ubicación del caso: string (nullable = true)\n",
            " |-- Estado: string (nullable = true)\n",
            " |-- Código ISO del país: integer (nullable = true)\n",
            " |-- Nombre del país: string (nullable = true)\n",
            " |-- Recuperado: string (nullable = true)\n",
            " |-- Fecha de inicio de síntomas: string (nullable = true)\n",
            " |-- Fecha de muerte: string (nullable = true)\n",
            " |-- Fecha de diagnóstico: string (nullable = true)\n",
            " |-- Fecha de recuperación: string (nullable = true)\n",
            " |-- Tipo de recuperación: string (nullable = true)\n",
            " |-- Pertenencia étnica: integer (nullable = true)\n",
            " |-- Nombre del grupo étnico: string (nullable = true)\n",
            "\n"
          ]
        }
      ],
      "source": [
        "#printSchema\n",
        "df.printSchema()"
      ]
    },
    {
      "cell_type": "code",
      "source": [
        "df.select('fecha reporte web','Fecha de notificación','Ubicación del caso','Fecha de muerte').show(5)"
      ],
      "metadata": {
        "colab": {
          "base_uri": "https://localhost:8080/"
        },
        "id": "vHb3kK_sTuTB",
        "outputId": "74a8cc20-6e8d-4fde-c8ec-21f65a23e879"
      },
      "execution_count": null,
      "outputs": [
        {
          "output_type": "stream",
          "name": "stdout",
          "text": [
            "+-----------------+---------------------+------------------+---------------+\n",
            "|fecha reporte web|Fecha de notificación|Ubicación del caso|Fecha de muerte|\n",
            "+-----------------+---------------------+------------------+---------------+\n",
            "| 6/3/2020 0:00:00|     2/3/2020 0:00:00|              Casa|           null|\n",
            "| 9/3/2020 0:00:00|     6/3/2020 0:00:00|              Casa|           null|\n",
            "| 9/3/2020 0:00:00|     7/3/2020 0:00:00|              Casa|           null|\n",
            "|11/3/2020 0:00:00|     9/3/2020 0:00:00|              Casa|           null|\n",
            "|11/3/2020 0:00:00|     9/3/2020 0:00:00|              Casa|           null|\n",
            "+-----------------+---------------------+------------------+---------------+\n",
            "only showing top 5 rows\n",
            "\n"
          ]
        }
      ]
    },
    {
      "cell_type": "code",
      "source": [
        "df.select('Fecha de notificación','Recuperado','Edad').withColumn(\"Edad despues de 10 años\",(df[\"Edad\"]+10)).show(10,False)"
      ],
      "metadata": {
        "colab": {
          "base_uri": "https://localhost:8080/"
        },
        "id": "tDfkTRPcVCo-",
        "outputId": "07ca9c8a-4fe1-4410-c00b-9804f8e6c3d0"
      },
      "execution_count": null,
      "outputs": [
        {
          "output_type": "stream",
          "name": "stdout",
          "text": [
            "+---------------------+----------+----+-----------------------+\n",
            "|Fecha de notificación|Recuperado|Edad|Edad despues de 10 años|\n",
            "+---------------------+----------+----+-----------------------+\n",
            "|2/3/2020 0:00:00     |Recuperado|19  |29                     |\n",
            "|6/3/2020 0:00:00     |Recuperado|34  |44                     |\n",
            "|7/3/2020 0:00:00     |Recuperado|50  |60                     |\n",
            "|9/3/2020 0:00:00     |Recuperado|55  |65                     |\n",
            "|9/3/2020 0:00:00     |Recuperado|25  |35                     |\n",
            "|10/3/2020 0:00:00    |Recuperado|27  |37                     |\n",
            "|8/3/2020 0:00:00     |Recuperado|85  |95                     |\n",
            "|9/3/2020 0:00:00     |Recuperado|22  |32                     |\n",
            "|8/3/2020 0:00:00     |Recuperado|28  |38                     |\n",
            "|12/3/2020 0:00:00    |Recuperado|36  |46                     |\n",
            "+---------------------+----------+----+-----------------------+\n",
            "only showing top 10 rows\n",
            "\n"
          ]
        }
      ]
    },
    {
      "cell_type": "code",
      "source": [
        "df.select('ID de caso','Fecha de notificación','Recuperado','Edad').drop('Fecha de notificación').show(5)"
      ],
      "metadata": {
        "colab": {
          "base_uri": "https://localhost:8080/"
        },
        "id": "GyP9lALBWAm_",
        "outputId": "2cddc128-de0f-4b87-9eaf-4ecabebb4399"
      },
      "execution_count": null,
      "outputs": [
        {
          "output_type": "stream",
          "name": "stdout",
          "text": [
            "+----------+----------+----+\n",
            "|ID de caso|Recuperado|Edad|\n",
            "+----------+----------+----+\n",
            "|         1|Recuperado|  19|\n",
            "|         2|Recuperado|  34|\n",
            "|         3|Recuperado|  50|\n",
            "|         4|Recuperado|  55|\n",
            "|         5|Recuperado|  25|\n",
            "+----------+----------+----+\n",
            "only showing top 5 rows\n",
            "\n"
          ]
        }
      ]
    },
    {
      "cell_type": "code",
      "source": [
        "df.filter(df['Edad']>30).show(5)"
      ],
      "metadata": {
        "colab": {
          "base_uri": "https://localhost:8080/"
        },
        "id": "1m41jjpdWUHw",
        "outputId": "0e451691-7f34-4a06-dd1b-62cf3a8eb455"
      },
      "execution_count": null,
      "outputs": [
        {
          "output_type": "stream",
          "name": "stdout",
          "text": [
            "+-----------------+----------+---------------------+----------------------------+-------------------+-------------------------+----------------+----+------------------------+----+----------------+------------------+------+-------------------+--------------------+----------+---------------------------+---------------+--------------------+---------------------+--------------------+------------------+-----------------------+\n",
            "|fecha reporte web|ID de caso|Fecha de notificación|Código DIVIPOLA departamento|Nombre departamento|Código DIVIPOLA municipio|Nombre municipio|Edad|Unidad de medida de edad|Sexo|Tipo de contagio|Ubicación del caso|Estado|Código ISO del país|     Nombre del país|Recuperado|Fecha de inicio de síntomas|Fecha de muerte|Fecha de diagnóstico|Fecha de recuperación|Tipo de recuperación|Pertenencia étnica|Nombre del grupo étnico|\n",
            "+-----------------+----------+---------------------+----------------------------+-------------------+-------------------------+----------------+----+------------------------+----+----------------+------------------+------+-------------------+--------------------+----------+---------------------------+---------------+--------------------+---------------------+--------------------+------------------+-----------------------+\n",
            "| 9/3/2020 0:00:00|         2|     6/3/2020 0:00:00|                          76|              VALLE|                    76111|            BUGA|  34|                       1|   M|       Importado|              Casa|  Leve|                724|              ESPAÑA|Recuperado|           4/3/2020 0:00:00|           null|    9/3/2020 0:00:00|    19/3/2020 0:00:00|                 PCR|                 5|                   null|\n",
            "| 9/3/2020 0:00:00|         3|     7/3/2020 0:00:00|                           5|          ANTIOQUIA|                     5001|        MEDELLIN|  50|                       1|   F|       Importado|              Casa|  Leve|                724|              ESPAÑA|Recuperado|          29/2/2020 0:00:00|           null|    9/3/2020 0:00:00|    15/3/2020 0:00:00|                 PCR|                 6|                   null|\n",
            "|11/3/2020 0:00:00|         4|     9/3/2020 0:00:00|                           5|          ANTIOQUIA|                     5001|        MEDELLIN|  55|                       1|   M|     Relacionado|              Casa|  Leve|               null|                null|Recuperado|           6/3/2020 0:00:00|           null|   11/3/2020 0:00:00|    26/3/2020 0:00:00|                 PCR|                 6|                   null|\n",
            "|11/3/2020 0:00:00|         7|     8/3/2020 0:00:00|                       13001|          CARTAGENA|                    13001|       CARTAGENA|  85|                       1|   F|       Importado|              Casa|  Leve|                840|ESTADOS UNIDOS DE...|Recuperado|           2/3/2020 0:00:00|           null|   11/3/2020 0:00:00|    17/3/2020 0:00:00|                 PCR|                 6|                   null|\n",
            "|12/3/2020 0:00:00|        10|    12/3/2020 0:00:00|                          11|             BOGOTA|                    11001|          BOGOTA|  36|                       1|   F|       Importado|              Casa|  Leve|                724|              ESPAÑA|Recuperado|           6/3/2020 0:00:00|           null|   12/3/2020 0:00:00|    21/3/2020 0:00:00|                 PCR|                 6|                   null|\n",
            "+-----------------+----------+---------------------+----------------------------+-------------------+-------------------------+----------------+----+------------------------+----+----------------+------------------+------+-------------------+--------------------+----------+---------------------------+---------------+--------------------+---------------------+--------------------+------------------+-----------------------+\n",
            "only showing top 5 rows\n",
            "\n"
          ]
        }
      ]
    },
    {
      "cell_type": "code",
      "source": [
        "df.select('Nombre departamento','Recuperado').withColumnRenamed('Recuperado','sano').show(5)"
      ],
      "metadata": {
        "colab": {
          "base_uri": "https://localhost:8080/"
        },
        "id": "Sd2_JZFzUQP-",
        "outputId": "8183e044-7ad4-4337-81ec-c05e82b0e6a0"
      },
      "execution_count": null,
      "outputs": [
        {
          "output_type": "stream",
          "name": "stdout",
          "text": [
            "+-------------------+----------+\n",
            "|Nombre departamento|      sano|\n",
            "+-------------------+----------+\n",
            "|             BOGOTA|Recuperado|\n",
            "|              VALLE|Recuperado|\n",
            "|          ANTIOQUIA|Recuperado|\n",
            "|          ANTIOQUIA|Recuperado|\n",
            "|          ANTIOQUIA|Recuperado|\n",
            "+-------------------+----------+\n",
            "only showing top 5 rows\n",
            "\n"
          ]
        }
      ]
    },
    {
      "cell_type": "code",
      "source": [
        "from pyspark.sql.functions import udf"
      ],
      "metadata": {
        "id": "ZR2_-aKJXDrG"
      },
      "execution_count": null,
      "outputs": []
    },
    {
      "cell_type": "code",
      "source": [
        "from pyspark.sql.types import StringType,DoubleType,IntegerType"
      ],
      "metadata": {
        "id": "tuNBX866XOlW"
      },
      "execution_count": null,
      "outputs": []
    },
    {
      "cell_type": "code",
      "source": [
        "def realizar_cuarentena(dep):\n",
        "  if dep == \"Recuperado\":\n",
        "    return \"No cuarentena\"\n",
        "  else:\n",
        "    return \"Realizar cuarentena\""
      ],
      "metadata": {
        "id": "XpIJZ3_fXRhn"
      },
      "execution_count": null,
      "outputs": []
    },
    {
      "cell_type": "code",
      "source": [
        "obj_udf=udf(realizar_cuarentena,StringType())\n",
        "df.select('ID de caso','Edad','Recuperado').withColumn('Realizar cuarentena',obj_udf(df['Recuperado'])).show(10)"
      ],
      "metadata": {
        "colab": {
          "base_uri": "https://localhost:8080/"
        },
        "id": "5rphaDliXnvD",
        "outputId": "cb60a5d7-0e70-48b4-c8af-f62944c795bd"
      },
      "execution_count": null,
      "outputs": [
        {
          "output_type": "stream",
          "name": "stdout",
          "text": [
            "+----------+----+----------+-------------------+\n",
            "|ID de caso|Edad|Recuperado|Realizar cuarentena|\n",
            "+----------+----+----------+-------------------+\n",
            "|         1|  19|Recuperado|      No cuarentena|\n",
            "|         2|  34|Recuperado|      No cuarentena|\n",
            "|         3|  50|Recuperado|      No cuarentena|\n",
            "|         4|  55|Recuperado|      No cuarentena|\n",
            "|         5|  25|Recuperado|      No cuarentena|\n",
            "|         6|  27|Recuperado|      No cuarentena|\n",
            "|         7|  85|Recuperado|      No cuarentena|\n",
            "|         8|  22|Recuperado|      No cuarentena|\n",
            "|         9|  28|Recuperado|      No cuarentena|\n",
            "|        10|  36|Recuperado|      No cuarentena|\n",
            "+----------+----+----------+-------------------+\n",
            "only showing top 10 rows\n",
            "\n"
          ]
        }
      ]
    },
    {
      "cell_type": "code",
      "source": [
        "#Respuestas a las preguntas de la sección 3"
      ],
      "metadata": {
        "id": "xsgflQhwepGf"
      },
      "execution_count": null,
      "outputs": []
    },
    {
      "cell_type": "code",
      "source": [
        "#Dirección \n",
        "write_uri1='s3a://datamazapataj/Preguntas3/3_1'"
      ],
      "metadata": {
        "id": "yWZTHCVXm0tq"
      },
      "execution_count": 75,
      "outputs": []
    },
    {
      "cell_type": "code",
      "source": [
        "#Departamentos con mayor casos de covid (dataframe)\n",
        "\n",
        "df.groupBy('Nombre departamento').count().orderBy('count',ascending=False).show(10,False)"
      ],
      "metadata": {
        "colab": {
          "base_uri": "https://localhost:8080/"
        },
        "id": "_TZIMpsidV_M",
        "outputId": "2126dc71-4300-43a1-bbeb-c9d223978990"
      },
      "execution_count": 76,
      "outputs": [
        {
          "output_type": "stream",
          "name": "stdout",
          "text": [
            "+-------------------+-----+\n",
            "|Nombre departamento|count|\n",
            "+-------------------+-----+\n",
            "|BOGOTA             |30016|\n",
            "|BARRANQUILLA       |13065|\n",
            "|ATLANTICO          |10994|\n",
            "|VALLE              |10404|\n",
            "|CARTAGENA          |8333 |\n",
            "|ANTIOQUIA          |4554 |\n",
            "|NARIÑO             |3520 |\n",
            "|CUNDINAMARCA       |2827 |\n",
            "|AMAZONAS           |2317 |\n",
            "|CHOCO              |1636 |\n",
            "+-------------------+-----+\n",
            "only showing top 10 rows\n",
            "\n"
          ]
        }
      ]
    },
    {
      "cell_type": "code",
      "source": [
        "#Municipio con mayor casos de covid (dataframe)\n",
        "\n",
        "df.groupBy('Nombre municipio').count().orderBy('count',ascending=False).show(10,False)"
      ],
      "metadata": {
        "colab": {
          "base_uri": "https://localhost:8080/"
        },
        "id": "IJbPl0H8eXfg",
        "outputId": "498e8fc3-53a4-4fc8-a3b0-c521188c1747"
      },
      "execution_count": null,
      "outputs": [
        {
          "output_type": "stream",
          "name": "stdout",
          "text": [
            "+----------------+-----+\n",
            "|Nombre municipio|count|\n",
            "+----------------+-----+\n",
            "|BOGOTA          |30016|\n",
            "|BARRANQUILLA    |13065|\n",
            "|CARTAGENA       |8333 |\n",
            "|CALI            |7747 |\n",
            "|SOLEDAD         |6233 |\n",
            "|LETICIA         |2194 |\n",
            "|MEDELLIN        |2137 |\n",
            "|TUMACO          |1501 |\n",
            "|BUENAVENTURA    |1453 |\n",
            "|QUIBDO          |1367 |\n",
            "+----------------+-----+\n",
            "only showing top 10 rows\n",
            "\n"
          ]
        }
      ]
    },
    {
      "cell_type": "code",
      "source": [
        "#Fechas en las que hay mayor casos de covid (dataframe)\n",
        "\n",
        "df.groupBy('Fecha de notificación').count().orderBy('count',ascending=False).show(10,False)"
      ],
      "metadata": {
        "colab": {
          "base_uri": "https://localhost:8080/"
        },
        "id": "99sUiqQden6H",
        "outputId": "0baacfd4-8634-4403-9140-46cd184b76fd"
      },
      "execution_count": null,
      "outputs": [
        {
          "output_type": "stream",
          "name": "stdout",
          "text": [
            "+---------------------+-----+\n",
            "|Fecha de notificación|count|\n",
            "+---------------------+-----+\n",
            "|18/6/2020 0:00:00    |3477 |\n",
            "|19/6/2020 0:00:00    |3328 |\n",
            "|17/6/2020 0:00:00    |3318 |\n",
            "|16/6/2020 0:00:00    |3232 |\n",
            "|23/6/2020 0:00:00    |3230 |\n",
            "|11/6/2020 0:00:00    |2747 |\n",
            "|20/6/2020 0:00:00    |2684 |\n",
            "|12/6/2020 0:00:00    |2679 |\n",
            "|10/6/2020 0:00:00    |2650 |\n",
            "|24/6/2020 0:00:00    |2599 |\n",
            "+---------------------+-----+\n",
            "only showing top 10 rows\n",
            "\n"
          ]
        }
      ]
    },
    {
      "cell_type": "code",
      "source": [
        "#Distribución de casos por edades (dataframe)\n",
        "\n",
        "df.groupBy('Edad').count().orderBy('Edad',ascending=True).show()"
      ],
      "metadata": {
        "colab": {
          "base_uri": "https://localhost:8080/"
        },
        "id": "etrFrqYffKKm",
        "outputId": "08a22c4f-5157-4047-8253-162cf7c19c97"
      },
      "execution_count": null,
      "outputs": [
        {
          "output_type": "stream",
          "name": "stdout",
          "text": [
            "+----+-----+\n",
            "|Edad|count|\n",
            "+----+-----+\n",
            "|   1|  485|\n",
            "|   2|  440|\n",
            "|   3|  449|\n",
            "|   4|  373|\n",
            "|   5|  425|\n",
            "|   6|  431|\n",
            "|   7|  442|\n",
            "|   8|  461|\n",
            "|   9|  467|\n",
            "|  10|  530|\n",
            "|  11|  566|\n",
            "|  12|  562|\n",
            "|  13|  531|\n",
            "|  14|  580|\n",
            "|  15|  560|\n",
            "|  16|  600|\n",
            "|  17|  685|\n",
            "|  18| 1160|\n",
            "|  19| 1567|\n",
            "|  20| 1674|\n",
            "+----+-----+\n",
            "only showing top 20 rows\n",
            "\n"
          ]
        }
      ]
    },
    {
      "cell_type": "code",
      "source": [
        "#Cuanta gente se ha recuperado, cuanta ha fallecido (dataframe)\n",
        "\n",
        "df.groupBy('Recuperado').count().orderBy('count').show()"
      ],
      "metadata": {
        "colab": {
          "base_uri": "https://localhost:8080/"
        },
        "id": "l412X0etfgUj",
        "outputId": "aa805685-56da-47d4-a4d5-c662b37f0341"
      },
      "execution_count": null,
      "outputs": [
        {
          "output_type": "stream",
          "name": "stdout",
          "text": [
            "+----------+-----+\n",
            "|Recuperado|count|\n",
            "+----------+-----+\n",
            "| fallecido|    5|\n",
            "|       N/A|  505|\n",
            "| Fallecido| 4658|\n",
            "|Recuperado|94832|\n",
            "+----------+-----+\n",
            "\n"
          ]
        }
      ]
    },
    {
      "cell_type": "code",
      "source": [
        "#SparkSQL para las preguntas 3"
      ],
      "metadata": {
        "id": "mthH_jRGgbFA"
      },
      "execution_count": null,
      "outputs": []
    },
    {
      "cell_type": "code",
      "source": [
        "# In Python\n",
        "from pyspark.sql import SparkSession\n",
        "# Create a SparkSession\n",
        "spark = (SparkSession\n",
        "  .builder\n",
        "  .appName(\"SparkSQLExampleApp\")\n",
        "  .getOrCreate())\n",
        "# Path to data set\n",
        "csv_file = \"/content/gdrive/MyDrive/st0263-2266/bigdata/datasets/covid19/Casos_positivos_de_COVID-19_en_Colombia-100K.csv\"\n",
        "# Read and create a temporary view\n",
        "# Infer schema (note that for larger files you \n",
        "# may want to specify the schema)\n",
        "df = (spark.read.format(\"csv\")\n",
        "  .option(\"inferSchema\", \"true\")\n",
        "  .option(\"header\", \"true\")\n",
        "  .load(csv_file))\n",
        "df.createOrReplaceTempView(\"DbCovid\")"
      ],
      "metadata": {
        "id": "tc5UANXJjD94"
      },
      "execution_count": null,
      "outputs": []
    },
    {
      "cell_type": "code",
      "source": [
        "#Distribución de casos por edades (SparkSQL)\n",
        "spark.sql(\"\"\"SELECT Edad, COUNT(*) FROM DbCovid GROUP BY Edad\"\"\").show(10)"
      ],
      "metadata": {
        "colab": {
          "base_uri": "https://localhost:8080/"
        },
        "id": "X8QDKQRqjIPz",
        "outputId": "5e28a158-d763-4f74-a93f-89ce9fae0882"
      },
      "execution_count": null,
      "outputs": [
        {
          "output_type": "stream",
          "name": "stdout",
          "text": [
            "+----+--------+\n",
            "|Edad|count(1)|\n",
            "+----+--------+\n",
            "|  31|    2569|\n",
            "|  85|     224|\n",
            "|  65|     736|\n",
            "|  53|    1307|\n",
            "|  78|     346|\n",
            "|  34|    2310|\n",
            "| 101|       1|\n",
            "|  81|     275|\n",
            "|  28|    2540|\n",
            "|  76|     361|\n",
            "+----+--------+\n",
            "only showing top 10 rows\n",
            "\n"
          ]
        }
      ]
    },
    {
      "cell_type": "code",
      "source": [
        "#Municipio con mayores casos de covid (SparkSQL)\n",
        "spark.sql(\"\"\"SELECT `Nombre municipio`, COUNT(*) FROM DbCovid GROUP BY `Nombre municipio` ORDER BY 2  DESC\"\"\").show(10)"
      ],
      "metadata": {
        "colab": {
          "base_uri": "https://localhost:8080/"
        },
        "id": "h9MnJ8_HjgYf",
        "outputId": "5d63ad2b-1073-461d-8f2f-0652b4709438"
      },
      "execution_count": null,
      "outputs": [
        {
          "output_type": "stream",
          "name": "stdout",
          "text": [
            "+----------------+--------+\n",
            "|Nombre municipio|count(1)|\n",
            "+----------------+--------+\n",
            "|          BOGOTA|   30016|\n",
            "|    BARRANQUILLA|   13065|\n",
            "|       CARTAGENA|    8333|\n",
            "|            CALI|    7747|\n",
            "|         SOLEDAD|    6233|\n",
            "|         LETICIA|    2194|\n",
            "|        MEDELLIN|    2137|\n",
            "|          TUMACO|    1501|\n",
            "|    BUENAVENTURA|    1453|\n",
            "|          QUIBDO|    1367|\n",
            "+----------------+--------+\n",
            "only showing top 10 rows\n",
            "\n"
          ]
        }
      ]
    },
    {
      "cell_type": "code",
      "source": [
        "#Departamentos con mayores casos de covid (SparkSQL)\n",
        "spark.sql(\"\"\"SELECT `Nombre departamento`, COUNT(*) FROM covid GROUP BY `Nombre departamento` ORDER BY 2  DESC\"\"\").show(10)"
      ],
      "metadata": {
        "colab": {
          "base_uri": "https://localhost:8080/"
        },
        "id": "0oQWbeuklEyx",
        "outputId": "0ef25ea8-3e06-4e89-8847-136dc516870e"
      },
      "execution_count": null,
      "outputs": [
        {
          "output_type": "stream",
          "name": "stdout",
          "text": [
            "+-------------------+--------+\n",
            "|Nombre departamento|count(1)|\n",
            "+-------------------+--------+\n",
            "|             BOGOTA|   30016|\n",
            "|       BARRANQUILLA|   13065|\n",
            "|          ATLANTICO|   10994|\n",
            "|              VALLE|   10404|\n",
            "|          CARTAGENA|    8333|\n",
            "|          ANTIOQUIA|    4554|\n",
            "|             NARIÑO|    3520|\n",
            "|       CUNDINAMARCA|    2827|\n",
            "|           AMAZONAS|    2317|\n",
            "|              CHOCO|    1636|\n",
            "+-------------------+--------+\n",
            "only showing top 10 rows\n",
            "\n"
          ]
        }
      ]
    },
    {
      "cell_type": "code",
      "source": [
        "#Fechas con mayores casos de covid (SparkSQL)\n",
        "spark.sql(\"\"\"SELECT `Fecha de notificación`, COUNT(*) FROM covid GROUP BY `Fecha de notificación` ORDER BY 2  DESC\"\"\").show(10)"
      ],
      "metadata": {
        "colab": {
          "base_uri": "https://localhost:8080/"
        },
        "id": "ApSTFmH-la0-",
        "outputId": "ab4c4db6-9671-4793-a46c-ec2fb9e49b7c"
      },
      "execution_count": null,
      "outputs": [
        {
          "output_type": "stream",
          "name": "stdout",
          "text": [
            "+---------------------+--------+\n",
            "|Fecha de notificación|count(1)|\n",
            "+---------------------+--------+\n",
            "|    18/6/2020 0:00:00|    3477|\n",
            "|    19/6/2020 0:00:00|    3328|\n",
            "|    17/6/2020 0:00:00|    3318|\n",
            "|    16/6/2020 0:00:00|    3232|\n",
            "|    23/6/2020 0:00:00|    3230|\n",
            "|    11/6/2020 0:00:00|    2747|\n",
            "|    20/6/2020 0:00:00|    2684|\n",
            "|    12/6/2020 0:00:00|    2679|\n",
            "|    10/6/2020 0:00:00|    2650|\n",
            "|    24/6/2020 0:00:00|    2599|\n",
            "+---------------------+--------+\n",
            "only showing top 10 rows\n",
            "\n"
          ]
        }
      ]
    },
    {
      "cell_type": "code",
      "source": [
        "#Cuanta gente se ha recuperado, cuanta ha fallecido (SparkSQL)\n",
        "spark.sql(\"\"\"SELECT Recuperado, COUNT(*) FROM covid GROUP BY Recuperado ORDER BY 2  DESC\"\"\").show(10)"
      ],
      "metadata": {
        "colab": {
          "base_uri": "https://localhost:8080/"
        },
        "id": "uT3EUrpQl7lN",
        "outputId": "fcc9554a-7a09-4b95-b3e3-59d06b12c42e"
      },
      "execution_count": null,
      "outputs": [
        {
          "output_type": "stream",
          "name": "stdout",
          "text": [
            "+----------+--------+\n",
            "|Recuperado|count(1)|\n",
            "+----------+--------+\n",
            "|Recuperado|   94832|\n",
            "| Fallecido|    4658|\n",
            "|       N/A|     505|\n",
            "| fallecido|       5|\n",
            "+----------+--------+\n",
            "\n"
          ]
        }
      ]
    }
  ],
  "metadata": {
    "kernelspec": {
      "display_name": "Python 3.10.8 64-bit",
      "language": "python",
      "name": "python3"
    },
    "language_info": {
      "codemirror_mode": {
        "name": "ipython",
        "version": 3
      },
      "file_extension": ".py",
      "mimetype": "text/x-python",
      "name": "python",
      "nbconvert_exporter": "python",
      "pygments_lexer": "ipython3",
      "version": "3.10.8"
    },
    "vscode": {
      "interpreter": {
        "hash": "aee8b7b246df8f9039afb4144a1f6fd8d2ca17a180786b69acc140d282b71a49"
      }
    },
    "colab": {
      "provenance": []
    }
  },
  "nbformat": 4,
  "nbformat_minor": 0
}